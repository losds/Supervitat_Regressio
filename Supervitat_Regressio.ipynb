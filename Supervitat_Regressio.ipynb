{
 "cells": [
  {
   "cell_type": "markdown",
   "id": "reasonable-barrel",
   "metadata": {},
   "source": [
    "# Nivell 1\n",
    "\n",
    "\n"
   ]
  },
  {
   "cell_type": "markdown",
   "id": "german-immigration",
   "metadata": {},
   "source": [
    "- Exercici 1\n",
    "\n",
    "Crea almenys tres models de regressió diferents per intentar predir el millor possible l’endarreriment dels vols (ArrDelay) de DelayedFlights.csv."
   ]
  },
  {
   "cell_type": "code",
   "execution_count": 1,
   "id": "powerful-delight",
   "metadata": {},
   "outputs": [],
   "source": [
    "import pandas as pd\n",
    "from sklearn.model_selection import train_test_split\n",
    "import seaborn as sns\n",
    "from sklearn import datasets, linear_model\n",
    "from sklearn.linear_model import Lasso\n",
    "from sklearn.metrics import mean_squared_error\n",
    "from sklearn.metrics import r2_score\n",
    "from sklearn.ensemble import RandomForestRegressor\n",
    "from sklearn.tree import DecisionTreeRegressor\n",
    "import matplotlib.pyplot as plt\n",
    "from sklearn import tree\n",
    "from sklearn.tree import export_graphviz\n",
    "from sklearn import model_selection\n",
    "from sklearn.metrics import mean_absolute_error\n",
    "import numpy as np\n",
    "from scipy import stats\n",
    "from sklearn.preprocessing import StandardScaler"
   ]
  },
  {
   "cell_type": "code",
   "execution_count": 2,
   "id": "noted-clark",
   "metadata": {},
   "outputs": [],
   "source": [
    "df=pd.read_csv('DelayedFlights.csv')"
   ]
  },
  {
   "cell_type": "code",
   "execution_count": 3,
   "id": "theoretical-mason",
   "metadata": {},
   "outputs": [
    {
     "data": {
      "text/html": [
       "<div>\n",
       "<style scoped>\n",
       "    .dataframe tbody tr th:only-of-type {\n",
       "        vertical-align: middle;\n",
       "    }\n",
       "\n",
       "    .dataframe tbody tr th {\n",
       "        vertical-align: top;\n",
       "    }\n",
       "\n",
       "    .dataframe thead th {\n",
       "        text-align: right;\n",
       "    }\n",
       "</style>\n",
       "<table border=\"1\" class=\"dataframe\">\n",
       "  <thead>\n",
       "    <tr style=\"text-align: right;\">\n",
       "      <th></th>\n",
       "      <th>Unnamed: 0</th>\n",
       "      <th>Year</th>\n",
       "      <th>Month</th>\n",
       "      <th>DayofMonth</th>\n",
       "      <th>DayOfWeek</th>\n",
       "      <th>DepTime</th>\n",
       "      <th>CRSDepTime</th>\n",
       "      <th>ArrTime</th>\n",
       "      <th>CRSArrTime</th>\n",
       "      <th>UniqueCarrier</th>\n",
       "      <th>...</th>\n",
       "      <th>TaxiIn</th>\n",
       "      <th>TaxiOut</th>\n",
       "      <th>Cancelled</th>\n",
       "      <th>CancellationCode</th>\n",
       "      <th>Diverted</th>\n",
       "      <th>CarrierDelay</th>\n",
       "      <th>WeatherDelay</th>\n",
       "      <th>NASDelay</th>\n",
       "      <th>SecurityDelay</th>\n",
       "      <th>LateAircraftDelay</th>\n",
       "    </tr>\n",
       "  </thead>\n",
       "  <tbody>\n",
       "    <tr>\n",
       "      <th>0</th>\n",
       "      <td>0</td>\n",
       "      <td>2008</td>\n",
       "      <td>1</td>\n",
       "      <td>3</td>\n",
       "      <td>4</td>\n",
       "      <td>2003.0</td>\n",
       "      <td>1955</td>\n",
       "      <td>2211.0</td>\n",
       "      <td>2225</td>\n",
       "      <td>WN</td>\n",
       "      <td>...</td>\n",
       "      <td>4.0</td>\n",
       "      <td>8.0</td>\n",
       "      <td>0</td>\n",
       "      <td>N</td>\n",
       "      <td>0</td>\n",
       "      <td>NaN</td>\n",
       "      <td>NaN</td>\n",
       "      <td>NaN</td>\n",
       "      <td>NaN</td>\n",
       "      <td>NaN</td>\n",
       "    </tr>\n",
       "    <tr>\n",
       "      <th>1</th>\n",
       "      <td>1</td>\n",
       "      <td>2008</td>\n",
       "      <td>1</td>\n",
       "      <td>3</td>\n",
       "      <td>4</td>\n",
       "      <td>754.0</td>\n",
       "      <td>735</td>\n",
       "      <td>1002.0</td>\n",
       "      <td>1000</td>\n",
       "      <td>WN</td>\n",
       "      <td>...</td>\n",
       "      <td>5.0</td>\n",
       "      <td>10.0</td>\n",
       "      <td>0</td>\n",
       "      <td>N</td>\n",
       "      <td>0</td>\n",
       "      <td>NaN</td>\n",
       "      <td>NaN</td>\n",
       "      <td>NaN</td>\n",
       "      <td>NaN</td>\n",
       "      <td>NaN</td>\n",
       "    </tr>\n",
       "    <tr>\n",
       "      <th>2</th>\n",
       "      <td>2</td>\n",
       "      <td>2008</td>\n",
       "      <td>1</td>\n",
       "      <td>3</td>\n",
       "      <td>4</td>\n",
       "      <td>628.0</td>\n",
       "      <td>620</td>\n",
       "      <td>804.0</td>\n",
       "      <td>750</td>\n",
       "      <td>WN</td>\n",
       "      <td>...</td>\n",
       "      <td>3.0</td>\n",
       "      <td>17.0</td>\n",
       "      <td>0</td>\n",
       "      <td>N</td>\n",
       "      <td>0</td>\n",
       "      <td>NaN</td>\n",
       "      <td>NaN</td>\n",
       "      <td>NaN</td>\n",
       "      <td>NaN</td>\n",
       "      <td>NaN</td>\n",
       "    </tr>\n",
       "    <tr>\n",
       "      <th>3</th>\n",
       "      <td>4</td>\n",
       "      <td>2008</td>\n",
       "      <td>1</td>\n",
       "      <td>3</td>\n",
       "      <td>4</td>\n",
       "      <td>1829.0</td>\n",
       "      <td>1755</td>\n",
       "      <td>1959.0</td>\n",
       "      <td>1925</td>\n",
       "      <td>WN</td>\n",
       "      <td>...</td>\n",
       "      <td>3.0</td>\n",
       "      <td>10.0</td>\n",
       "      <td>0</td>\n",
       "      <td>N</td>\n",
       "      <td>0</td>\n",
       "      <td>2.0</td>\n",
       "      <td>0.0</td>\n",
       "      <td>0.0</td>\n",
       "      <td>0.0</td>\n",
       "      <td>32.0</td>\n",
       "    </tr>\n",
       "    <tr>\n",
       "      <th>4</th>\n",
       "      <td>5</td>\n",
       "      <td>2008</td>\n",
       "      <td>1</td>\n",
       "      <td>3</td>\n",
       "      <td>4</td>\n",
       "      <td>1940.0</td>\n",
       "      <td>1915</td>\n",
       "      <td>2121.0</td>\n",
       "      <td>2110</td>\n",
       "      <td>WN</td>\n",
       "      <td>...</td>\n",
       "      <td>4.0</td>\n",
       "      <td>10.0</td>\n",
       "      <td>0</td>\n",
       "      <td>N</td>\n",
       "      <td>0</td>\n",
       "      <td>NaN</td>\n",
       "      <td>NaN</td>\n",
       "      <td>NaN</td>\n",
       "      <td>NaN</td>\n",
       "      <td>NaN</td>\n",
       "    </tr>\n",
       "  </tbody>\n",
       "</table>\n",
       "<p>5 rows × 30 columns</p>\n",
       "</div>"
      ],
      "text/plain": [
       "   Unnamed: 0  Year  Month  DayofMonth  DayOfWeek  DepTime  CRSDepTime  \\\n",
       "0           0  2008      1           3          4   2003.0        1955   \n",
       "1           1  2008      1           3          4    754.0         735   \n",
       "2           2  2008      1           3          4    628.0         620   \n",
       "3           4  2008      1           3          4   1829.0        1755   \n",
       "4           5  2008      1           3          4   1940.0        1915   \n",
       "\n",
       "   ArrTime  CRSArrTime UniqueCarrier  ...  TaxiIn TaxiOut  Cancelled  \\\n",
       "0   2211.0        2225            WN  ...     4.0     8.0          0   \n",
       "1   1002.0        1000            WN  ...     5.0    10.0          0   \n",
       "2    804.0         750            WN  ...     3.0    17.0          0   \n",
       "3   1959.0        1925            WN  ...     3.0    10.0          0   \n",
       "4   2121.0        2110            WN  ...     4.0    10.0          0   \n",
       "\n",
       "   CancellationCode  Diverted  CarrierDelay  WeatherDelay NASDelay  \\\n",
       "0                 N         0           NaN           NaN      NaN   \n",
       "1                 N         0           NaN           NaN      NaN   \n",
       "2                 N         0           NaN           NaN      NaN   \n",
       "3                 N         0           2.0           0.0      0.0   \n",
       "4                 N         0           NaN           NaN      NaN   \n",
       "\n",
       "  SecurityDelay  LateAircraftDelay  \n",
       "0           NaN                NaN  \n",
       "1           NaN                NaN  \n",
       "2           NaN                NaN  \n",
       "3           0.0               32.0  \n",
       "4           NaN                NaN  \n",
       "\n",
       "[5 rows x 30 columns]"
      ]
     },
     "execution_count": 3,
     "metadata": {},
     "output_type": "execute_result"
    }
   ],
   "source": [
    "df.head()"
   ]
  },
  {
   "cell_type": "code",
   "execution_count": 4,
   "id": "friendly-honduras",
   "metadata": {},
   "outputs": [],
   "source": [
    "pd.set_option('display.max_columns', None)"
   ]
  },
  {
   "cell_type": "code",
   "execution_count": 5,
   "id": "patent-separation",
   "metadata": {},
   "outputs": [],
   "source": [
    "#elimino la columna contador de filas Unnamed: 0\n",
    "df = df.drop('Unnamed: 0', 1)"
   ]
  },
  {
   "cell_type": "code",
   "execution_count": 6,
   "id": "sexual-giant",
   "metadata": {},
   "outputs": [
    {
     "data": {
      "text/html": [
       "<div>\n",
       "<style scoped>\n",
       "    .dataframe tbody tr th:only-of-type {\n",
       "        vertical-align: middle;\n",
       "    }\n",
       "\n",
       "    .dataframe tbody tr th {\n",
       "        vertical-align: top;\n",
       "    }\n",
       "\n",
       "    .dataframe thead th {\n",
       "        text-align: right;\n",
       "    }\n",
       "</style>\n",
       "<table border=\"1\" class=\"dataframe\">\n",
       "  <thead>\n",
       "    <tr style=\"text-align: right;\">\n",
       "      <th></th>\n",
       "      <th>Year</th>\n",
       "      <th>Month</th>\n",
       "      <th>DayofMonth</th>\n",
       "      <th>DayOfWeek</th>\n",
       "      <th>DepTime</th>\n",
       "      <th>CRSDepTime</th>\n",
       "      <th>ArrTime</th>\n",
       "      <th>CRSArrTime</th>\n",
       "      <th>FlightNum</th>\n",
       "      <th>ActualElapsedTime</th>\n",
       "      <th>CRSElapsedTime</th>\n",
       "      <th>AirTime</th>\n",
       "      <th>ArrDelay</th>\n",
       "      <th>DepDelay</th>\n",
       "      <th>Distance</th>\n",
       "      <th>TaxiIn</th>\n",
       "      <th>TaxiOut</th>\n",
       "      <th>Cancelled</th>\n",
       "      <th>Diverted</th>\n",
       "      <th>CarrierDelay</th>\n",
       "      <th>WeatherDelay</th>\n",
       "      <th>NASDelay</th>\n",
       "      <th>SecurityDelay</th>\n",
       "      <th>LateAircraftDelay</th>\n",
       "    </tr>\n",
       "  </thead>\n",
       "  <tbody>\n",
       "    <tr>\n",
       "      <th>count</th>\n",
       "      <td>1936758.0</td>\n",
       "      <td>1936758.000</td>\n",
       "      <td>1936758.000</td>\n",
       "      <td>1936758.000</td>\n",
       "      <td>1936758.000</td>\n",
       "      <td>1936758.000</td>\n",
       "      <td>1929648.000</td>\n",
       "      <td>1936758.000</td>\n",
       "      <td>1936758.000</td>\n",
       "      <td>1928371.000</td>\n",
       "      <td>1936560.000</td>\n",
       "      <td>1928371.000</td>\n",
       "      <td>1928371.000</td>\n",
       "      <td>1936758.000</td>\n",
       "      <td>1936758.000</td>\n",
       "      <td>1929648.000</td>\n",
       "      <td>1936303.000</td>\n",
       "      <td>1936758.000</td>\n",
       "      <td>1936758.000</td>\n",
       "      <td>1247488.000</td>\n",
       "      <td>1247488.000</td>\n",
       "      <td>1247488.000</td>\n",
       "      <td>1247488.000</td>\n",
       "      <td>1247488.000</td>\n",
       "    </tr>\n",
       "    <tr>\n",
       "      <th>mean</th>\n",
       "      <td>2008.0</td>\n",
       "      <td>6.111</td>\n",
       "      <td>15.753</td>\n",
       "      <td>3.985</td>\n",
       "      <td>1518.534</td>\n",
       "      <td>1467.473</td>\n",
       "      <td>1610.141</td>\n",
       "      <td>1634.225</td>\n",
       "      <td>2184.263</td>\n",
       "      <td>133.306</td>\n",
       "      <td>134.303</td>\n",
       "      <td>108.277</td>\n",
       "      <td>42.200</td>\n",
       "      <td>43.185</td>\n",
       "      <td>765.686</td>\n",
       "      <td>6.813</td>\n",
       "      <td>18.232</td>\n",
       "      <td>0.000</td>\n",
       "      <td>0.004</td>\n",
       "      <td>19.179</td>\n",
       "      <td>3.704</td>\n",
       "      <td>15.022</td>\n",
       "      <td>0.090</td>\n",
       "      <td>25.296</td>\n",
       "    </tr>\n",
       "    <tr>\n",
       "      <th>std</th>\n",
       "      <td>0.0</td>\n",
       "      <td>3.483</td>\n",
       "      <td>8.776</td>\n",
       "      <td>1.996</td>\n",
       "      <td>450.485</td>\n",
       "      <td>424.767</td>\n",
       "      <td>548.178</td>\n",
       "      <td>464.635</td>\n",
       "      <td>1944.702</td>\n",
       "      <td>72.060</td>\n",
       "      <td>71.341</td>\n",
       "      <td>68.643</td>\n",
       "      <td>56.785</td>\n",
       "      <td>53.403</td>\n",
       "      <td>574.480</td>\n",
       "      <td>5.274</td>\n",
       "      <td>14.339</td>\n",
       "      <td>0.018</td>\n",
       "      <td>0.063</td>\n",
       "      <td>43.546</td>\n",
       "      <td>21.493</td>\n",
       "      <td>33.833</td>\n",
       "      <td>2.023</td>\n",
       "      <td>42.055</td>\n",
       "    </tr>\n",
       "    <tr>\n",
       "      <th>min</th>\n",
       "      <td>2008.0</td>\n",
       "      <td>1.000</td>\n",
       "      <td>1.000</td>\n",
       "      <td>1.000</td>\n",
       "      <td>1.000</td>\n",
       "      <td>0.000</td>\n",
       "      <td>1.000</td>\n",
       "      <td>0.000</td>\n",
       "      <td>1.000</td>\n",
       "      <td>14.000</td>\n",
       "      <td>-25.000</td>\n",
       "      <td>0.000</td>\n",
       "      <td>-109.000</td>\n",
       "      <td>6.000</td>\n",
       "      <td>11.000</td>\n",
       "      <td>0.000</td>\n",
       "      <td>0.000</td>\n",
       "      <td>0.000</td>\n",
       "      <td>0.000</td>\n",
       "      <td>0.000</td>\n",
       "      <td>0.000</td>\n",
       "      <td>0.000</td>\n",
       "      <td>0.000</td>\n",
       "      <td>0.000</td>\n",
       "    </tr>\n",
       "    <tr>\n",
       "      <th>25%</th>\n",
       "      <td>2008.0</td>\n",
       "      <td>3.000</td>\n",
       "      <td>8.000</td>\n",
       "      <td>2.000</td>\n",
       "      <td>1203.000</td>\n",
       "      <td>1135.000</td>\n",
       "      <td>1316.000</td>\n",
       "      <td>1325.000</td>\n",
       "      <td>610.000</td>\n",
       "      <td>80.000</td>\n",
       "      <td>82.000</td>\n",
       "      <td>58.000</td>\n",
       "      <td>9.000</td>\n",
       "      <td>12.000</td>\n",
       "      <td>338.000</td>\n",
       "      <td>4.000</td>\n",
       "      <td>10.000</td>\n",
       "      <td>0.000</td>\n",
       "      <td>0.000</td>\n",
       "      <td>0.000</td>\n",
       "      <td>0.000</td>\n",
       "      <td>0.000</td>\n",
       "      <td>0.000</td>\n",
       "      <td>0.000</td>\n",
       "    </tr>\n",
       "    <tr>\n",
       "      <th>50%</th>\n",
       "      <td>2008.0</td>\n",
       "      <td>6.000</td>\n",
       "      <td>16.000</td>\n",
       "      <td>4.000</td>\n",
       "      <td>1545.000</td>\n",
       "      <td>1510.000</td>\n",
       "      <td>1715.000</td>\n",
       "      <td>1705.000</td>\n",
       "      <td>1543.000</td>\n",
       "      <td>116.000</td>\n",
       "      <td>116.000</td>\n",
       "      <td>90.000</td>\n",
       "      <td>24.000</td>\n",
       "      <td>24.000</td>\n",
       "      <td>606.000</td>\n",
       "      <td>6.000</td>\n",
       "      <td>14.000</td>\n",
       "      <td>0.000</td>\n",
       "      <td>0.000</td>\n",
       "      <td>2.000</td>\n",
       "      <td>0.000</td>\n",
       "      <td>2.000</td>\n",
       "      <td>0.000</td>\n",
       "      <td>8.000</td>\n",
       "    </tr>\n",
       "    <tr>\n",
       "      <th>75%</th>\n",
       "      <td>2008.0</td>\n",
       "      <td>9.000</td>\n",
       "      <td>23.000</td>\n",
       "      <td>6.000</td>\n",
       "      <td>1900.000</td>\n",
       "      <td>1815.000</td>\n",
       "      <td>2030.000</td>\n",
       "      <td>2014.000</td>\n",
       "      <td>3422.000</td>\n",
       "      <td>165.000</td>\n",
       "      <td>165.000</td>\n",
       "      <td>137.000</td>\n",
       "      <td>56.000</td>\n",
       "      <td>53.000</td>\n",
       "      <td>998.000</td>\n",
       "      <td>8.000</td>\n",
       "      <td>21.000</td>\n",
       "      <td>0.000</td>\n",
       "      <td>0.000</td>\n",
       "      <td>21.000</td>\n",
       "      <td>0.000</td>\n",
       "      <td>15.000</td>\n",
       "      <td>0.000</td>\n",
       "      <td>33.000</td>\n",
       "    </tr>\n",
       "    <tr>\n",
       "      <th>max</th>\n",
       "      <td>2008.0</td>\n",
       "      <td>12.000</td>\n",
       "      <td>31.000</td>\n",
       "      <td>7.000</td>\n",
       "      <td>2400.000</td>\n",
       "      <td>2359.000</td>\n",
       "      <td>2400.000</td>\n",
       "      <td>2400.000</td>\n",
       "      <td>9742.000</td>\n",
       "      <td>1114.000</td>\n",
       "      <td>660.000</td>\n",
       "      <td>1091.000</td>\n",
       "      <td>2461.000</td>\n",
       "      <td>2467.000</td>\n",
       "      <td>4962.000</td>\n",
       "      <td>240.000</td>\n",
       "      <td>422.000</td>\n",
       "      <td>1.000</td>\n",
       "      <td>1.000</td>\n",
       "      <td>2436.000</td>\n",
       "      <td>1352.000</td>\n",
       "      <td>1357.000</td>\n",
       "      <td>392.000</td>\n",
       "      <td>1316.000</td>\n",
       "    </tr>\n",
       "  </tbody>\n",
       "</table>\n",
       "</div>"
      ],
      "text/plain": [
       "            Year        Month   DayofMonth    DayOfWeek      DepTime  \\\n",
       "count  1936758.0  1936758.000  1936758.000  1936758.000  1936758.000   \n",
       "mean      2008.0        6.111       15.753        3.985     1518.534   \n",
       "std          0.0        3.483        8.776        1.996      450.485   \n",
       "min       2008.0        1.000        1.000        1.000        1.000   \n",
       "25%       2008.0        3.000        8.000        2.000     1203.000   \n",
       "50%       2008.0        6.000       16.000        4.000     1545.000   \n",
       "75%       2008.0        9.000       23.000        6.000     1900.000   \n",
       "max       2008.0       12.000       31.000        7.000     2400.000   \n",
       "\n",
       "        CRSDepTime      ArrTime   CRSArrTime    FlightNum  ActualElapsedTime  \\\n",
       "count  1936758.000  1929648.000  1936758.000  1936758.000        1928371.000   \n",
       "mean      1467.473     1610.141     1634.225     2184.263            133.306   \n",
       "std        424.767      548.178      464.635     1944.702             72.060   \n",
       "min          0.000        1.000        0.000        1.000             14.000   \n",
       "25%       1135.000     1316.000     1325.000      610.000             80.000   \n",
       "50%       1510.000     1715.000     1705.000     1543.000            116.000   \n",
       "75%       1815.000     2030.000     2014.000     3422.000            165.000   \n",
       "max       2359.000     2400.000     2400.000     9742.000           1114.000   \n",
       "\n",
       "       CRSElapsedTime      AirTime     ArrDelay     DepDelay     Distance  \\\n",
       "count     1936560.000  1928371.000  1928371.000  1936758.000  1936758.000   \n",
       "mean          134.303      108.277       42.200       43.185      765.686   \n",
       "std            71.341       68.643       56.785       53.403      574.480   \n",
       "min           -25.000        0.000     -109.000        6.000       11.000   \n",
       "25%            82.000       58.000        9.000       12.000      338.000   \n",
       "50%           116.000       90.000       24.000       24.000      606.000   \n",
       "75%           165.000      137.000       56.000       53.000      998.000   \n",
       "max           660.000     1091.000     2461.000     2467.000     4962.000   \n",
       "\n",
       "            TaxiIn      TaxiOut    Cancelled     Diverted  CarrierDelay  \\\n",
       "count  1929648.000  1936303.000  1936758.000  1936758.000   1247488.000   \n",
       "mean         6.813       18.232        0.000        0.004        19.179   \n",
       "std          5.274       14.339        0.018        0.063        43.546   \n",
       "min          0.000        0.000        0.000        0.000         0.000   \n",
       "25%          4.000       10.000        0.000        0.000         0.000   \n",
       "50%          6.000       14.000        0.000        0.000         2.000   \n",
       "75%          8.000       21.000        0.000        0.000        21.000   \n",
       "max        240.000      422.000        1.000        1.000      2436.000   \n",
       "\n",
       "       WeatherDelay     NASDelay  SecurityDelay  LateAircraftDelay  \n",
       "count   1247488.000  1247488.000    1247488.000        1247488.000  \n",
       "mean          3.704       15.022          0.090             25.296  \n",
       "std          21.493       33.833          2.023             42.055  \n",
       "min           0.000        0.000          0.000              0.000  \n",
       "25%           0.000        0.000          0.000              0.000  \n",
       "50%           0.000        2.000          0.000              8.000  \n",
       "75%           0.000       15.000          0.000             33.000  \n",
       "max        1352.000     1357.000        392.000           1316.000  "
      ]
     },
     "execution_count": 6,
     "metadata": {},
     "output_type": "execute_result"
    }
   ],
   "source": [
    "df.describe().round(3)"
   ]
  },
  {
   "cell_type": "code",
   "execution_count": 7,
   "id": "subsequent-threshold",
   "metadata": {},
   "outputs": [],
   "source": [
    "#Limpieza de los datos"
   ]
  },
  {
   "cell_type": "code",
   "execution_count": 8,
   "id": "prescription-intervention",
   "metadata": {},
   "outputs": [
    {
     "data": {
      "text/plain": [
       "Year                      0\n",
       "Month                     0\n",
       "DayofMonth                0\n",
       "DayOfWeek                 0\n",
       "DepTime                   0\n",
       "CRSDepTime                0\n",
       "ArrTime                7110\n",
       "CRSArrTime                0\n",
       "UniqueCarrier             0\n",
       "FlightNum                 0\n",
       "TailNum                   5\n",
       "ActualElapsedTime      8387\n",
       "CRSElapsedTime          198\n",
       "AirTime                8387\n",
       "ArrDelay               8387\n",
       "DepDelay                  0\n",
       "Origin                    0\n",
       "Dest                      0\n",
       "Distance                  0\n",
       "TaxiIn                 7110\n",
       "TaxiOut                 455\n",
       "Cancelled                 0\n",
       "CancellationCode          0\n",
       "Diverted                  0\n",
       "CarrierDelay         689270\n",
       "WeatherDelay         689270\n",
       "NASDelay             689270\n",
       "SecurityDelay        689270\n",
       "LateAircraftDelay    689270\n",
       "dtype: int64"
      ]
     },
     "execution_count": 8,
     "metadata": {},
     "output_type": "execute_result"
    }
   ],
   "source": [
    "df.isnull().sum()"
   ]
  },
  {
   "cell_type": "code",
   "execution_count": 9,
   "id": "honey-phrase",
   "metadata": {},
   "outputs": [],
   "source": [
    "#Elimino las filas que tienen null en alguna columna"
   ]
  },
  {
   "cell_type": "code",
   "execution_count": 10,
   "id": "detected-integral",
   "metadata": {},
   "outputs": [
    {
     "data": {
      "text/plain": [
       "Year                 0\n",
       "Month                0\n",
       "DayofMonth           0\n",
       "DayOfWeek            0\n",
       "DepTime              0\n",
       "CRSDepTime           0\n",
       "ArrTime              0\n",
       "CRSArrTime           0\n",
       "UniqueCarrier        0\n",
       "FlightNum            0\n",
       "TailNum              0\n",
       "ActualElapsedTime    0\n",
       "CRSElapsedTime       0\n",
       "AirTime              0\n",
       "ArrDelay             0\n",
       "DepDelay             0\n",
       "Origin               0\n",
       "Dest                 0\n",
       "Distance             0\n",
       "TaxiIn               0\n",
       "TaxiOut              0\n",
       "Cancelled            0\n",
       "CancellationCode     0\n",
       "Diverted             0\n",
       "CarrierDelay         0\n",
       "WeatherDelay         0\n",
       "NASDelay             0\n",
       "SecurityDelay        0\n",
       "LateAircraftDelay    0\n",
       "dtype: int64"
      ]
     },
     "execution_count": 10,
     "metadata": {},
     "output_type": "execute_result"
    }
   ],
   "source": [
    "dflimpio = df.dropna(axis=0, how='any')\n",
    "dflimpio.isna().sum()"
   ]
  },
  {
   "cell_type": "markdown",
   "id": "placed-penetration",
   "metadata": {},
   "source": [
    "Voy a usar la varialbe DepDelay para predicir ArrDelay"
   ]
  },
  {
   "cell_type": "markdown",
   "id": "favorite-bolivia",
   "metadata": {},
   "source": [
    "1 Regresion lineal"
   ]
  },
  {
   "cell_type": "code",
   "execution_count": 11,
   "id": "unlikely-cable",
   "metadata": {},
   "outputs": [],
   "source": [
    "target_column = ['ArrDelay']"
   ]
  },
  {
   "cell_type": "code",
   "execution_count": 12,
   "id": "auburn-slovakia",
   "metadata": {},
   "outputs": [],
   "source": [
    "predictors=['DepDelay']"
   ]
  },
  {
   "cell_type": "code",
   "execution_count": 13,
   "id": "occasional-schema",
   "metadata": {},
   "outputs": [],
   "source": [
    "y = pd.DataFrame(dflimpio, columns=target_column)"
   ]
  },
  {
   "cell_type": "code",
   "execution_count": 14,
   "id": "successful-brass",
   "metadata": {},
   "outputs": [],
   "source": [
    "X=pd.DataFrame(dflimpio, columns=predictors)"
   ]
  },
  {
   "cell_type": "code",
   "execution_count": 15,
   "id": "effective-premium",
   "metadata": {},
   "outputs": [],
   "source": [
    "#divido DFs en trainset y test set\n",
    "X_train, X_test, y_train, y_test = train_test_split(X, y, test_size=0.33, random_state=42)"
   ]
  },
  {
   "cell_type": "code",
   "execution_count": 16,
   "id": "measured-railway",
   "metadata": {},
   "outputs": [],
   "source": [
    "lm = linear_model.LinearRegression()\n",
    "model = lm.fit(X_train,y_train)"
   ]
  },
  {
   "cell_type": "code",
   "execution_count": 17,
   "id": "failing-husband",
   "metadata": {},
   "outputs": [
    {
     "data": {
      "text/html": [
       "<div>\n",
       "<style scoped>\n",
       "    .dataframe tbody tr th:only-of-type {\n",
       "        vertical-align: middle;\n",
       "    }\n",
       "\n",
       "    .dataframe tbody tr th {\n",
       "        vertical-align: top;\n",
       "    }\n",
       "\n",
       "    .dataframe thead th {\n",
       "        text-align: right;\n",
       "    }\n",
       "</style>\n",
       "<table border=\"1\" class=\"dataframe\">\n",
       "  <thead>\n",
       "    <tr style=\"text-align: right;\">\n",
       "      <th></th>\n",
       "      <th>DepDelay</th>\n",
       "    </tr>\n",
       "  </thead>\n",
       "  <tbody>\n",
       "    <tr>\n",
       "      <th>901067</th>\n",
       "      <td>7.0</td>\n",
       "    </tr>\n",
       "    <tr>\n",
       "      <th>932903</th>\n",
       "      <td>65.0</td>\n",
       "    </tr>\n",
       "    <tr>\n",
       "      <th>654628</th>\n",
       "      <td>55.0</td>\n",
       "    </tr>\n",
       "    <tr>\n",
       "      <th>505993</th>\n",
       "      <td>30.0</td>\n",
       "    </tr>\n",
       "    <tr>\n",
       "      <th>1131821</th>\n",
       "      <td>25.0</td>\n",
       "    </tr>\n",
       "    <tr>\n",
       "      <th>...</th>\n",
       "      <td>...</td>\n",
       "    </tr>\n",
       "    <tr>\n",
       "      <th>166340</th>\n",
       "      <td>23.0</td>\n",
       "    </tr>\n",
       "    <tr>\n",
       "      <th>389778</th>\n",
       "      <td>133.0</td>\n",
       "    </tr>\n",
       "    <tr>\n",
       "      <th>202316</th>\n",
       "      <td>30.0</td>\n",
       "    </tr>\n",
       "    <tr>\n",
       "      <th>1029145</th>\n",
       "      <td>24.0</td>\n",
       "    </tr>\n",
       "    <tr>\n",
       "      <th>185156</th>\n",
       "      <td>48.0</td>\n",
       "    </tr>\n",
       "  </tbody>\n",
       "</table>\n",
       "<p>835815 rows × 1 columns</p>\n",
       "</div>"
      ],
      "text/plain": [
       "         DepDelay\n",
       "901067        7.0\n",
       "932903       65.0\n",
       "654628       55.0\n",
       "505993       30.0\n",
       "1131821      25.0\n",
       "...           ...\n",
       "166340       23.0\n",
       "389778      133.0\n",
       "202316       30.0\n",
       "1029145      24.0\n",
       "185156       48.0\n",
       "\n",
       "[835815 rows x 1 columns]"
      ]
     },
     "execution_count": 17,
     "metadata": {},
     "output_type": "execute_result"
    }
   ],
   "source": [
    "X_train"
   ]
  },
  {
   "cell_type": "code",
   "execution_count": null,
   "id": "capital-corner",
   "metadata": {},
   "outputs": [],
   "source": []
  },
  {
   "cell_type": "code",
   "execution_count": 18,
   "id": "twenty-duplicate",
   "metadata": {},
   "outputs": [],
   "source": [
    "#predictors = list(set(list(dflimpio.columns))-set(target_column))"
   ]
  },
  {
   "cell_type": "code",
   "execution_count": 19,
   "id": "comfortable-parameter",
   "metadata": {},
   "outputs": [
    {
     "data": {
      "text/plain": [
       "['DepDelay']"
      ]
     },
     "execution_count": 19,
     "metadata": {},
     "output_type": "execute_result"
    }
   ],
   "source": [
    "predictors"
   ]
  },
  {
   "cell_type": "code",
   "execution_count": 20,
   "id": "surgical-lying",
   "metadata": {},
   "outputs": [],
   "source": [
    "#y = pd.DataFrame(dflimpio, columns=target_column)"
   ]
  },
  {
   "cell_type": "code",
   "execution_count": 103,
   "id": "diagnostic-nation",
   "metadata": {},
   "outputs": [],
   "source": [
    "#X=pd.DataFrame(dflimpio, columns=predictors)"
   ]
  },
  {
   "cell_type": "code",
   "execution_count": 22,
   "id": "joint-concentration",
   "metadata": {},
   "outputs": [
    {
     "data": {
      "text/html": [
       "<div>\n",
       "<style scoped>\n",
       "    .dataframe tbody tr th:only-of-type {\n",
       "        vertical-align: middle;\n",
       "    }\n",
       "\n",
       "    .dataframe tbody tr th {\n",
       "        vertical-align: top;\n",
       "    }\n",
       "\n",
       "    .dataframe thead th {\n",
       "        text-align: right;\n",
       "    }\n",
       "</style>\n",
       "<table border=\"1\" class=\"dataframe\">\n",
       "  <thead>\n",
       "    <tr style=\"text-align: right;\">\n",
       "      <th></th>\n",
       "      <th>DepDelay</th>\n",
       "    </tr>\n",
       "  </thead>\n",
       "  <tbody>\n",
       "    <tr>\n",
       "      <th>3</th>\n",
       "      <td>34.0</td>\n",
       "    </tr>\n",
       "    <tr>\n",
       "      <th>5</th>\n",
       "      <td>67.0</td>\n",
       "    </tr>\n",
       "    <tr>\n",
       "      <th>7</th>\n",
       "      <td>94.0</td>\n",
       "    </tr>\n",
       "    <tr>\n",
       "      <th>9</th>\n",
       "      <td>27.0</td>\n",
       "    </tr>\n",
       "    <tr>\n",
       "      <th>11</th>\n",
       "      <td>28.0</td>\n",
       "    </tr>\n",
       "  </tbody>\n",
       "</table>\n",
       "</div>"
      ],
      "text/plain": [
       "    DepDelay\n",
       "3       34.0\n",
       "5       67.0\n",
       "7       94.0\n",
       "9       27.0\n",
       "11      28.0"
      ]
     },
     "execution_count": 22,
     "metadata": {},
     "output_type": "execute_result"
    }
   ],
   "source": [
    "X.head()"
   ]
  },
  {
   "cell_type": "code",
   "execution_count": 23,
   "id": "natural-upper",
   "metadata": {},
   "outputs": [
    {
     "data": {
      "text/html": [
       "<div>\n",
       "<style scoped>\n",
       "    .dataframe tbody tr th:only-of-type {\n",
       "        vertical-align: middle;\n",
       "    }\n",
       "\n",
       "    .dataframe tbody tr th {\n",
       "        vertical-align: top;\n",
       "    }\n",
       "\n",
       "    .dataframe thead th {\n",
       "        text-align: right;\n",
       "    }\n",
       "</style>\n",
       "<table border=\"1\" class=\"dataframe\">\n",
       "  <thead>\n",
       "    <tr style=\"text-align: right;\">\n",
       "      <th></th>\n",
       "      <th>ArrDelay</th>\n",
       "    </tr>\n",
       "  </thead>\n",
       "  <tbody>\n",
       "    <tr>\n",
       "      <th>3</th>\n",
       "      <td>34.0</td>\n",
       "    </tr>\n",
       "    <tr>\n",
       "      <th>5</th>\n",
       "      <td>57.0</td>\n",
       "    </tr>\n",
       "    <tr>\n",
       "      <th>7</th>\n",
       "      <td>80.0</td>\n",
       "    </tr>\n",
       "    <tr>\n",
       "      <th>9</th>\n",
       "      <td>15.0</td>\n",
       "    </tr>\n",
       "    <tr>\n",
       "      <th>11</th>\n",
       "      <td>16.0</td>\n",
       "    </tr>\n",
       "  </tbody>\n",
       "</table>\n",
       "</div>"
      ],
      "text/plain": [
       "    ArrDelay\n",
       "3       34.0\n",
       "5       57.0\n",
       "7       80.0\n",
       "9       15.0\n",
       "11      16.0"
      ]
     },
     "execution_count": 23,
     "metadata": {},
     "output_type": "execute_result"
    }
   ],
   "source": [
    "y.head()"
   ]
  },
  {
   "cell_type": "code",
   "execution_count": 24,
   "id": "nutritional-mining",
   "metadata": {},
   "outputs": [],
   "source": [
    "lm = linear_model.LinearRegression()\n",
    "model = lm.fit(X_train,y_train)"
   ]
  },
  {
   "cell_type": "markdown",
   "id": "complimentary-tennessee",
   "metadata": {},
   "source": [
    "𝑅²"
   ]
  },
  {
   "cell_type": "code",
   "execution_count": 25,
   "id": "affected-pavilion",
   "metadata": {},
   "outputs": [
    {
     "name": "stdout",
     "output_type": "stream",
     "text": [
      "coefficient of determination: 0.9025416348925841\n"
     ]
    }
   ],
   "source": [
    "r_sq = model.score(X_test, y_test)\n",
    "print('coefficient of determination:', r_sq)"
   ]
  },
  {
   "cell_type": "markdown",
   "id": "stuffed-tracker",
   "metadata": {},
   "source": [
    "Lasso Regression"
   ]
  },
  {
   "cell_type": "code",
   "execution_count": 26,
   "id": "regulated-contents",
   "metadata": {},
   "outputs": [],
   "source": [
    "model_lasso = Lasso(alpha=0.01)"
   ]
  },
  {
   "cell_type": "code",
   "execution_count": 27,
   "id": "innocent-accuracy",
   "metadata": {},
   "outputs": [
    {
     "data": {
      "text/plain": [
       "Lasso(alpha=0.01)"
      ]
     },
     "execution_count": 27,
     "metadata": {},
     "output_type": "execute_result"
    }
   ],
   "source": [
    "model_lasso.fit(X_train, y_train) "
   ]
  },
  {
   "cell_type": "code",
   "execution_count": 28,
   "id": "hourly-column",
   "metadata": {},
   "outputs": [],
   "source": [
    "pred_train_lasso= model_lasso.predict(X_train)"
   ]
  },
  {
   "cell_type": "code",
   "execution_count": 29,
   "id": "flush-cache",
   "metadata": {},
   "outputs": [
    {
     "name": "stdout",
     "output_type": "stream",
     "text": [
      "𝑅²= 0.9033953348975828\n"
     ]
    }
   ],
   "source": [
    "print(f'𝑅²= {r2_score(y_train, pred_train_lasso)}')"
   ]
  },
  {
   "cell_type": "markdown",
   "id": "fantastic-forth",
   "metadata": {},
   "source": [
    "Random Forest"
   ]
  },
  {
   "cell_type": "code",
   "execution_count": 30,
   "id": "protected-convenience",
   "metadata": {},
   "outputs": [],
   "source": [
    "moderlRandomForest = RandomForestRegressor(n_estimators=50, random_state=8)"
   ]
  },
  {
   "cell_type": "code",
   "execution_count": 31,
   "id": "hundred-processor",
   "metadata": {},
   "outputs": [
    {
     "data": {
      "text/plain": [
       "RandomForestRegressor(n_estimators=50, random_state=8)"
      ]
     },
     "execution_count": 31,
     "metadata": {},
     "output_type": "execute_result"
    }
   ],
   "source": [
    "moderlRandomForest.fit(X_train, y_train.values.ravel())"
   ]
  },
  {
   "cell_type": "code",
   "execution_count": 32,
   "id": "alpine-arcade",
   "metadata": {},
   "outputs": [],
   "source": [
    "model_rf = moderlRandomForest.fit(X_train, y_train.values.ravel())"
   ]
  },
  {
   "cell_type": "markdown",
   "id": "stupid-netherlands",
   "metadata": {},
   "source": [
    "DecisionTreeRegressor"
   ]
  },
  {
   "cell_type": "code",
   "execution_count": 33,
   "id": "weird-charge",
   "metadata": {},
   "outputs": [],
   "source": [
    "dtr1 = DecisionTreeRegressor(max_depth=2,random_state=1)"
   ]
  },
  {
   "cell_type": "code",
   "execution_count": 34,
   "id": "satisfactory-english",
   "metadata": {},
   "outputs": [],
   "source": [
    "clf=dtr1.fit(X_train, y_train)"
   ]
  },
  {
   "cell_type": "code",
   "execution_count": 35,
   "id": "intensive-airline",
   "metadata": {},
   "outputs": [
    {
     "name": "stdout",
     "output_type": "stream",
     "text": [
      "coefficient of determination: 0.7651764317887705\n"
     ]
    }
   ],
   "source": [
    "r_sqDT = dtr1.score(X_test, y_test)\n",
    "print('coefficient of determination:', r_sqDT)"
   ]
  },
  {
   "cell_type": "code",
   "execution_count": 36,
   "id": "mature-operator",
   "metadata": {},
   "outputs": [
    {
     "data": {
      "text/plain": [
       "[Text(279.0, 453.0, 'X[0] <= 110.5\\nmse = 3695.32\\nsamples = 835815\\nvalue = 63.282'),\n",
       " Text(139.5, 271.8, 'X[0] <= 56.5\\nmse = 808.67\\nsamples = 726239\\nvalue = 45.969'),\n",
       " Text(69.75, 90.59999999999997, 'mse = 349.618\\nsamples = 534886\\nvalue = 34.243'),\n",
       " Text(209.25, 90.59999999999997, 'mse = 633.122\\nsamples = 191353\\nvalue = 78.747'),\n",
       " Text(418.5, 271.8, 'X[0] <= 254.5\\nmse = 7673.812\\nsamples = 109576\\nvalue = 178.029'),\n",
       " Text(348.75, 90.59999999999997, 'mse = 1792.821\\nsamples = 97783\\nvalue = 156.67'),\n",
       " Text(488.25, 90.59999999999997, 'mse = 21289.272\\nsamples = 11793\\nvalue = 355.13')]"
      ]
     },
     "execution_count": 36,
     "metadata": {},
     "output_type": "execute_result"
    },
    {
     "data": {
      "image/png": "[encoded data removed]",
      "text/plain": [
       "<Figure size 720x720 with 1 Axes>"
      ]
     },
     "metadata": {
      "needs_background": "light"
     },
     "output_type": "display_data"
    }
   ],
   "source": [
    "plt.figure(figsize=(10,10))\n",
    "\n",
    "tree.plot_tree(clf) \n"
   ]
  },
  {
   "cell_type": "markdown",
   "id": "twelve-charlotte",
   "metadata": {},
   "source": [
    "# Exercici 2\n",
    "Compara’ls en base al MSE i al R2 ."
   ]
  },
  {
   "cell_type": "code",
   "execution_count": 37,
   "id": "meaningful-dressing",
   "metadata": {},
   "outputs": [
    {
     "name": "stdout",
     "output_type": "stream",
     "text": [
      "Modelo: MSE: 357.60697789082235 LinearRegression() R2: 0.90311433875909\n",
      "Modelo: MSE: 357.606977918722 Lasso(alpha=0.01) R2: 0.9031143387515311\n",
      "Modelo: MSE: 874.0720850488748 DecisionTreeRegressor(max_depth=2, random_state=1) R2: 0.7631895987274734\n"
     ]
    },
    {
     "name": "stderr",
     "output_type": "stream",
     "text": [
      "<ipython-input-37-097c265b3313>:4: DataConversionWarning: A column-vector y was passed when a 1d array was expected. Please change the shape of y to (n_samples,), for example using ravel().\n",
      "  model.fit(X,y)\n"
     ]
    },
    {
     "name": "stdout",
     "output_type": "stream",
     "text": [
      "Modelo: MSE: 332.3554023803966 RandomForestRegressor(n_estimators=50, random_state=8) R2: 0.9099556918141449\n"
     ]
    }
   ],
   "source": [
    "#funcion que calcula MSE y R2\n",
    "def mser2(regresiones):\n",
    "    for model in regresiones:\n",
    "        model.fit(X,y)\n",
    "        y_pred = model.predict(X)\n",
    "        mse = mean_squared_error(y,y_pred)\n",
    "        R2 = r2_score(y,y_pred) \n",
    "        print(f'Modelo: MSE: {mse} {model} R2: {R2}')\n",
    "        \n",
    "regresiones = [lm,model_lasso,dtr1,moderlRandomForest]\n",
    "mser2(regresiones)"
   ]
  },
  {
   "cell_type": "markdown",
   "id": "waiting-resource",
   "metadata": {},
   "source": [
    "# Exercici 3\n",
    "\n",
    "Entrena’ls utilitzant els diferents paràmetres que admeten."
   ]
  },
  {
   "cell_type": "code",
   "execution_count": 39,
   "id": "promotional-morris",
   "metadata": {},
   "outputs": [],
   "source": [
    "#Regresion lineal "
   ]
  },
  {
   "cell_type": "code",
   "execution_count": 40,
   "id": "significant-mentor",
   "metadata": {},
   "outputs": [],
   "source": [
    "#Pongo fit_intercept"
   ]
  },
  {
   "cell_type": "code",
   "execution_count": 41,
   "id": "linear-burner",
   "metadata": {},
   "outputs": [],
   "source": [
    "lmt = linear_model.LinearRegression(fit_intercept=True)\n",
    "modellf = lmt.fit(X_train,y_train)"
   ]
  },
  {
   "cell_type": "code",
   "execution_count": 42,
   "id": "prime-delhi",
   "metadata": {},
   "outputs": [],
   "source": [
    "# Pongo fit_intercept y normalizacion"
   ]
  },
  {
   "cell_type": "code",
   "execution_count": 43,
   "id": "convinced-equation",
   "metadata": {},
   "outputs": [],
   "source": [
    "lmtn = linear_model.LinearRegression(fit_intercept=True,normalize=True)\n",
    "modellfn = lmt.fit(X_train,y_train)"
   ]
  },
  {
   "cell_type": "code",
   "execution_count": 44,
   "id": "gentle-output",
   "metadata": {},
   "outputs": [],
   "source": [
    "#DecisionTreeRegressor"
   ]
  },
  {
   "cell_type": "code",
   "execution_count": 45,
   "id": "southern-duncan",
   "metadata": {},
   "outputs": [],
   "source": [
    "dtr2 = DecisionTreeRegressor(max_depth=15,random_state=1)"
   ]
  },
  {
   "cell_type": "code",
   "execution_count": 46,
   "id": "arctic-yahoo",
   "metadata": {},
   "outputs": [],
   "source": [
    "dtr3 = DecisionTreeRegressor(max_depth=15,random_state=1,min_samples_leaf=3)"
   ]
  },
  {
   "cell_type": "code",
   "execution_count": 47,
   "id": "downtown-deviation",
   "metadata": {},
   "outputs": [],
   "source": [
    "#RandomForest n_estimatorsint cambio el  numero de arboles en el bosque "
   ]
  },
  {
   "cell_type": "code",
   "execution_count": 48,
   "id": "short-reading",
   "metadata": {},
   "outputs": [],
   "source": [
    "moderlRandomForest2 = RandomForestRegressor(n_estimators=100, random_state=8)"
   ]
  },
  {
   "cell_type": "code",
   "execution_count": 49,
   "id": "fresh-stroke",
   "metadata": {},
   "outputs": [],
   "source": [
    "moderlRandomForest3 = RandomForestRegressor(n_estimators=150, random_state=8, max_depth=9)"
   ]
  },
  {
   "cell_type": "markdown",
   "id": "solid-crisis",
   "metadata": {},
   "source": [
    "# Exercici 4\n",
    "\n",
    "Compara el seu rendiment utilitzant l’aproximació traint/test o utilitzant totes les dades (validació interna)"
   ]
  },
  {
   "cell_type": "code",
   "execution_count": 50,
   "id": "separated-progressive",
   "metadata": {},
   "outputs": [
    {
     "name": "stderr",
     "output_type": "stream",
     "text": [
      "<ipython-input-37-097c265b3313>:4: DataConversionWarning: A column-vector y was passed when a 1d array was expected. Please change the shape of y to (n_samples,), for example using ravel().\n",
      "  model.fit(X,y)\n"
     ]
    },
    {
     "name": "stdout",
     "output_type": "stream",
     "text": [
      "Modelo: MSE: 332.3554023803966 RandomForestRegressor(n_estimators=50, random_state=8) R2: 0.9099556918141449\n"
     ]
    },
    {
     "name": "stderr",
     "output_type": "stream",
     "text": [
      "<ipython-input-37-097c265b3313>:4: DataConversionWarning: A column-vector y was passed when a 1d array was expected. Please change the shape of y to (n_samples,), for example using ravel().\n",
      "  model.fit(X,y)\n"
     ]
    },
    {
     "name": "stdout",
     "output_type": "stream",
     "text": [
      "Modelo: MSE: 332.35025136068157 RandomForestRegressor(random_state=8) R2: 0.9099570873684323\n"
     ]
    },
    {
     "name": "stderr",
     "output_type": "stream",
     "text": [
      "<ipython-input-37-097c265b3313>:4: DataConversionWarning: A column-vector y was passed when a 1d array was expected. Please change the shape of y to (n_samples,), for example using ravel().\n",
      "  model.fit(X,y)\n"
     ]
    },
    {
     "name": "stdout",
     "output_type": "stream",
     "text": [
      "Modelo: MSE: 332.5029626314485 RandomForestRegressor(max_depth=9, n_estimators=150, random_state=8) R2: 0.9099157136443107\n"
     ]
    }
   ],
   "source": [
    "regresiones = [moderlRandomForest,moderlRandomForest2,moderlRandomForest3]\n",
    "mser2(regresiones)"
   ]
  },
  {
   "cell_type": "code",
   "execution_count": 51,
   "id": "married-transport",
   "metadata": {},
   "outputs": [
    {
     "name": "stdout",
     "output_type": "stream",
     "text": [
      "Modelo: MSE: 874.0720850488748 DecisionTreeRegressor(max_depth=2, random_state=1) R2: 0.7631895987274734\n",
      "Modelo: MSE: 332.3039030712794 DecisionTreeRegressor(max_depth=15, random_state=1) R2: 0.9099696444071472\n",
      "Modelo: MSE: 332.55149988572725 DecisionTreeRegressor(max_depth=15, min_samples_leaf=3, random_state=1) R2: 0.9099025635542219\n"
     ]
    }
   ],
   "source": [
    "regresiones = [dtr1,dtr2,dtr3]\n",
    "mser2(regresiones)"
   ]
  },
  {
   "cell_type": "code",
   "execution_count": 52,
   "id": "irish-middle",
   "metadata": {},
   "outputs": [
    {
     "name": "stdout",
     "output_type": "stream",
     "text": [
      "Modelo: MSE: 357.60697789082235 LinearRegression() R2: 0.90311433875909\n",
      "Modelo: MSE: 357.60697789082235 LinearRegression() R2: 0.90311433875909\n",
      "Modelo: MSE: 357.60697789082235 LinearRegression() R2: 0.90311433875909\n"
     ]
    }
   ],
   "source": [
    "regresiones = [lm,modellf,modellfn]\n",
    "mser2(regresiones)"
   ]
  },
  {
   "cell_type": "markdown",
   "id": "gross-geology",
   "metadata": {},
   "source": [
    "# Exercici 5\n",
    "\n",
    "Realitza algun procés d’enginyeria de variables per millorar-ne la predicció"
   ]
  },
  {
   "cell_type": "code",
   "execution_count": 53,
   "id": "skilled-effects",
   "metadata": {},
   "outputs": [
    {
     "data": {
      "text/plain": [
       "<AxesSubplot:>"
      ]
     },
     "execution_count": 53,
     "metadata": {},
     "output_type": "execute_result"
    },
    {
     "data": {
      "image/png": "[encoded data removed]",
      "text/plain": [
       "<Figure size 1440x360 with 1 Axes>"
      ]
     },
     "metadata": {
      "needs_background": "light"
     },
     "output_type": "display_data"
    }
   ],
   "source": [
    "X.boxplot(vert=False,figsize=(20,5))"
   ]
  },
  {
   "cell_type": "code",
   "execution_count": 54,
   "id": "editorial-documentary",
   "metadata": {},
   "outputs": [
    {
     "data": {
      "text/plain": [
       "<AxesSubplot:>"
      ]
     },
     "execution_count": 54,
     "metadata": {},
     "output_type": "execute_result"
    },
    {
     "data": {
      "image/png": "[encoded data removed]",
      "text/plain": [
       "<Figure size 1440x360 with 1 Axes>"
      ]
     },
     "metadata": {
      "needs_background": "light"
     },
     "output_type": "display_data"
    }
   ],
   "source": [
    "y.boxplot(vert=False,figsize=(20,5))"
   ]
  },
  {
   "cell_type": "code",
   "execution_count": 55,
   "id": "liquid-immunology",
   "metadata": {},
   "outputs": [
    {
     "data": {
      "text/plain": [
       "array([[<AxesSubplot:title={'center':'ArrDelay'}>]], dtype=object)"
      ]
     },
     "execution_count": 55,
     "metadata": {},
     "output_type": "execute_result"
    },
    {
     "data": {
      "image/png": "[encoded data removed]",
      "text/plain": [
       "<Figure size 432x288 with 1 Axes>"
      ]
     },
     "metadata": {
      "needs_background": "light"
     },
     "output_type": "display_data"
    }
   ],
   "source": [
    "y.hist( bins=100)"
   ]
  },
  {
   "cell_type": "code",
   "execution_count": 56,
   "id": "generic-volume",
   "metadata": {},
   "outputs": [
    {
     "data": {
      "text/plain": [
       "array([[<AxesSubplot:title={'center':'DepDelay'}>]], dtype=object)"
      ]
     },
     "execution_count": 56,
     "metadata": {},
     "output_type": "execute_result"
    },
    {
     "data": {
      "image/png": "[encoded data removed]",
      "text/plain": [
       "<Figure size 432x288 with 1 Axes>"
      ]
     },
     "metadata": {
      "needs_background": "light"
     },
     "output_type": "display_data"
    }
   ],
   "source": [
    "X.hist( bins=100)"
   ]
  },
  {
   "cell_type": "code",
   "execution_count": 57,
   "id": "moderate-charity",
   "metadata": {},
   "outputs": [
    {
     "data": {
      "text/plain": [
       "<bound method Axes.barh of <AxesSubplot:>>"
      ]
     },
     "execution_count": 57,
     "metadata": {},
     "output_type": "execute_result"
    },
    {
     "data": {
      "image/png": "[encoded data removed]",
      "text/plain": [
       "<Figure size 432x288 with 1 Axes>"
      ]
     },
     "metadata": {
      "needs_background": "light"
     },
     "output_type": "display_data"
    }
   ],
   "source": [
    "X.plot().barh"
   ]
  },
  {
   "cell_type": "code",
   "execution_count": 58,
   "id": "residential-satellite",
   "metadata": {},
   "outputs": [
    {
     "data": {
      "text/plain": [
       "[<matplotlib.lines.Line2D at 0x244248e44f0>]"
      ]
     },
     "execution_count": 58,
     "metadata": {},
     "output_type": "execute_result"
    },
    {
     "data": {
      "image/png": "[encoded data removed]",
      "text/plain": [
       "<Figure size 432x288 with 1 Axes>"
      ]
     },
     "metadata": {
      "needs_background": "light"
     },
     "output_type": "display_data"
    }
   ],
   "source": [
    "plt.plot(X,y)"
   ]
  },
  {
   "cell_type": "code",
   "execution_count": 59,
   "id": "handmade-cornwall",
   "metadata": {},
   "outputs": [],
   "source": [
    "#x_=np.array(X).reshape((-1, 1))"
   ]
  },
  {
   "cell_type": "code",
   "execution_count": null,
   "id": "patient-sample",
   "metadata": {},
   "outputs": [],
   "source": []
  },
  {
   "cell_type": "code",
   "execution_count": 60,
   "id": "adjusted-lincoln",
   "metadata": {},
   "outputs": [
    {
     "data": {
      "text/plain": [
       "pandas.core.frame.DataFrame"
      ]
     },
     "execution_count": 60,
     "metadata": {},
     "output_type": "execute_result"
    }
   ],
   "source": [
    "type(X)"
   ]
  },
  {
   "cell_type": "code",
   "execution_count": 61,
   "id": "closing-acrobat",
   "metadata": {},
   "outputs": [
    {
     "data": {
      "text/plain": [
       "Index(['DepDelay'], dtype='object')"
      ]
     },
     "execution_count": 61,
     "metadata": {},
     "output_type": "execute_result"
    }
   ],
   "source": [
    "X.columns"
   ]
  },
  {
   "cell_type": "code",
   "execution_count": null,
   "id": "perfect-stereo",
   "metadata": {},
   "outputs": [],
   "source": []
  },
  {
   "cell_type": "code",
   "execution_count": null,
   "id": "isolated-plaintiff",
   "metadata": {},
   "outputs": [],
   "source": []
  },
  {
   "cell_type": "code",
   "execution_count": 62,
   "id": "advanced-converter",
   "metadata": {},
   "outputs": [],
   "source": [
    "Q1 = y['ArrDelay'].quantile(0.25)\n",
    "Q3 = y['ArrDelay'].quantile(0.75)\n",
    "IQR = Q3 - Q1    #IQR is interquartile range. \n",
    "\n",
    "filter = (y['ArrDelay'] >= Q1 - 1.5 * IQR) & (y['ArrDelay'] <= Q3 + 1.5 *IQR)\n",
    "y_sinoutlayer=y.loc[filter]  "
   ]
  },
  {
   "cell_type": "code",
   "execution_count": 63,
   "id": "neural-strain",
   "metadata": {},
   "outputs": [
    {
     "data": {
      "text/plain": [
       "<AxesSubplot:>"
      ]
     },
     "execution_count": 63,
     "metadata": {},
     "output_type": "execute_result"
    },
    {
     "data": {
      "image/png": "[encoded data removed]",
      "text/plain": [
       "<Figure size 1440x360 with 1 Axes>"
      ]
     },
     "metadata": {
      "needs_background": "light"
     },
     "output_type": "display_data"
    }
   ],
   "source": [
    "y_sinoutlayer.boxplot(vert=False,figsize=(20,5))"
   ]
  },
  {
   "cell_type": "code",
   "execution_count": null,
   "id": "typical-internet",
   "metadata": {},
   "outputs": [],
   "source": []
  },
  {
   "cell_type": "code",
   "execution_count": null,
   "id": "covered-afghanistan",
   "metadata": {},
   "outputs": [],
   "source": []
  },
  {
   "cell_type": "code",
   "execution_count": 70,
   "id": "aerial-pitch",
   "metadata": {},
   "outputs": [
    {
     "name": "stdout",
     "output_type": "stream",
     "text": [
      "Year                -1929.0\n",
      "Month                  76.0\n",
      "DayofMonth             71.0\n",
      "DayOfWeek              77.0\n",
      "DepTime             -1124.0\n",
      "CRSDepTime          -1056.0\n",
      "ArrTime             -1237.0\n",
      "CRSArrTime          -1246.0\n",
      "FlightNum            -531.0\n",
      "ActualElapsedTime      -1.0\n",
      "CRSElapsedTime         -3.0\n",
      "AirTime                21.0\n",
      "ArrDelay               70.0\n",
      "DepDelay               67.0\n",
      "Distance             -259.0\n",
      "TaxiIn                 75.0\n",
      "TaxiOut                69.0\n",
      "Cancelled              79.0\n",
      "Diverted               79.0\n",
      "CarrierDelay           79.0\n",
      "WeatherDelay           79.0\n",
      "NASDelay               79.0\n",
      "SecurityDelay          79.0\n",
      "LateAircraftDelay      79.0\n",
      "Name: 0.25, dtype: float64\n"
     ]
    },
    {
     "name": "stderr",
     "output_type": "stream",
     "text": [
      "<ipython-input-70-5f870d4615cc>:6: FutureWarning: Automatic reindexing on DataFrame vs Series comparisons is deprecated and will raise ValueError in a future version.  Do `left, right = left.align(right, axis=1, copy=False)` before e.g. `left == right`\n",
      "  df_sol = df[~((df < (Q1 - 1.5 * IQR)) |(df > (Q3 + 1.5 * IQR))).any(axis=1)]\n",
      "<ipython-input-70-5f870d4615cc>:6: FutureWarning: Automatic reindexing on DataFrame vs Series comparisons is deprecated and will raise ValueError in a future version.  Do `left, right = left.align(right, axis=1, copy=False)` before e.g. `left == right`\n",
      "  df_sol = df[~((df < (Q1 - 1.5 * IQR)) |(df > (Q3 + 1.5 * IQR))).any(axis=1)]\n"
     ]
    }
   ],
   "source": [
    "#https://towardsdatascience.com/ways-to-detect-and-remove-the-outliers-404d16608dba\n",
    "Q1=df.quantile(0.25)\n",
    "Q2=df.quantile(0.75)\n",
    "IQR=Q3-Q1\n",
    "print(IQR)\n",
    "df_sol = df[~((df < (Q1 - 1.5 * IQR)) |(df > (Q3 + 1.5 * IQR))).any(axis=1)]"
   ]
  },
  {
   "cell_type": "code",
   "execution_count": null,
   "id": "editorial-story",
   "metadata": {},
   "outputs": [],
   "source": []
  },
  {
   "cell_type": "code",
   "execution_count": 73,
   "id": "fifty-montgomery",
   "metadata": {},
   "outputs": [
    {
     "name": "stdout",
     "output_type": "stream",
     "text": [
      "Year                    0.0\n",
      "Month                   6.0\n",
      "DayofMonth             15.0\n",
      "DayOfWeek               4.0\n",
      "DepTime               697.0\n",
      "CRSDepTime            680.0\n",
      "ArrTime               714.0\n",
      "CRSArrTime            689.0\n",
      "FlightNum            2812.0\n",
      "ActualElapsedTime      85.0\n",
      "CRSElapsedTime         83.0\n",
      "AirTime                79.0\n",
      "ArrDelay               47.0\n",
      "DepDelay               41.0\n",
      "Distance              660.0\n",
      "TaxiIn                  4.0\n",
      "TaxiOut                11.0\n",
      "Cancelled               0.0\n",
      "Diverted                0.0\n",
      "CarrierDelay           21.0\n",
      "WeatherDelay            0.0\n",
      "NASDelay               15.0\n",
      "SecurityDelay           0.0\n",
      "LateAircraftDelay      33.0\n",
      "dtype: float64\n"
     ]
    }
   ],
   "source": [
    "Q1 = df.quantile(0.25)\n",
    "\n",
    "Q3 = df.quantile(0.75)\n",
    "\n",
    "IQR = Q3 - Q1\n",
    "\n",
    "print(IQR)"
   ]
  },
  {
   "cell_type": "code",
   "execution_count": 74,
   "id": "exposed-superior",
   "metadata": {},
   "outputs": [
    {
     "name": "stderr",
     "output_type": "stream",
     "text": [
      "<ipython-input-74-dcd1fa6746c0>:1: FutureWarning: Automatic reindexing on DataFrame vs Series comparisons is deprecated and will raise ValueError in a future version.  Do `left, right = left.align(right, axis=1, copy=False)` before e.g. `left == right`\n",
      "  df_out = df[~((df < (Q1 - 1.5 * IQR)) |(df > (Q3 + 1.5 * IQR))).any(axis=1)]\n",
      "<ipython-input-74-dcd1fa6746c0>:1: FutureWarning: Automatic reindexing on DataFrame vs Series comparisons is deprecated and will raise ValueError in a future version.  Do `left, right = left.align(right, axis=1, copy=False)` before e.g. `left == right`\n",
      "  df_out = df[~((df < (Q1 - 1.5 * IQR)) |(df > (Q3 + 1.5 * IQR))).any(axis=1)]\n"
     ]
    },
    {
     "name": "stdout",
     "output_type": "stream",
     "text": [
      "(1251298, 29)\n"
     ]
    }
   ],
   "source": [
    "df_out = df[~((df < (Q1 - 1.5 * IQR)) |(df > (Q3 + 1.5 * IQR))).any(axis=1)]\n",
    "\n",
    "print(df_out.shape)"
   ]
  },
  {
   "cell_type": "code",
   "execution_count": null,
   "id": "sharing-meaning",
   "metadata": {},
   "outputs": [],
   "source": []
  },
  {
   "cell_type": "code",
   "execution_count": 71,
   "id": "intense-maine",
   "metadata": {},
   "outputs": [],
   "source": [
    "\n"
   ]
  },
  {
   "cell_type": "code",
   "execution_count": null,
   "id": "precise-capture",
   "metadata": {},
   "outputs": [],
   "source": []
  },
  {
   "cell_type": "code",
   "execution_count": null,
   "id": "severe-index",
   "metadata": {},
   "outputs": [],
   "source": []
  },
  {
   "cell_type": "code",
   "execution_count": null,
   "id": "floral-chick",
   "metadata": {},
   "outputs": [],
   "source": []
  },
  {
   "cell_type": "code",
   "execution_count": null,
   "id": "third-wisconsin",
   "metadata": {},
   "outputs": [],
   "source": []
  },
  {
   "cell_type": "code",
   "execution_count": null,
   "id": "single-patch",
   "metadata": {},
   "outputs": [],
   "source": []
  },
  {
   "cell_type": "code",
   "execution_count": 83,
   "id": "circular-employment",
   "metadata": {},
   "outputs": [],
   "source": [
    "standsc = StandardScaler()\n",
    "y = pd.DataFrame(df_out, columns=target_column)\n",
    "X = pd.DataFrame(df_out, columns=predictors)\n",
    "y = standsc.fit_transform(y)\n",
    "X = standsc.fit_transform(X)"
   ]
  },
  {
   "cell_type": "code",
   "execution_count": null,
   "id": "cheap-change",
   "metadata": {},
   "outputs": [],
   "source": []
  },
  {
   "cell_type": "code",
   "execution_count": 84,
   "id": "solid-seventh",
   "metadata": {},
   "outputs": [],
   "source": [
    "X_train, X_test, y_train, y_test = train_test_split(X, y, test_size=0.2, random_state=358)"
   ]
  },
  {
   "cell_type": "code",
   "execution_count": 85,
   "id": "champion-letters",
   "metadata": {},
   "outputs": [
    {
     "name": "stdout",
     "output_type": "stream",
     "text": [
      "Modelo: MSE: 0.24691218341200638 LinearRegression() R2: 0.7530878165879937\n",
      "Modelo: MSE: 0.24691218341200638 LinearRegression() R2: 0.7530878165879937\n"
     ]
    }
   ],
   "source": [
    "lm = linear_model.LinearRegression()\n",
    "\n",
    "model2 = lm.fit(X_train,y_train)\n",
    "\n",
    "regresiones = [model,model2]\n",
    "mser2(regresiones)"
   ]
  },
  {
   "cell_type": "code",
   "execution_count": 88,
   "id": "current-retreat",
   "metadata": {},
   "outputs": [
    {
     "name": "stdout",
     "output_type": "stream",
     "text": [
      "Modelo: MSE: 0.24691218341200638 LinearRegression() R2: 0.7530878165879937\n"
     ]
    }
   ],
   "source": [
    "lm = linear_model.LinearRegression()\n",
    "\n",
    "model2 = lm.fit(X_train,y_train)\n",
    "\n",
    "regresiones = [model2]\n",
    "mser2(regresiones)"
   ]
  },
  {
   "cell_type": "code",
   "execution_count": null,
   "id": "cooperative-timeline",
   "metadata": {},
   "outputs": [],
   "source": [
    "## Como se puede observar los valores de MSE Y R2 han bajado\n",
    "# Modelo: MSE: 357.60697789082235 LinearRegression() R2: 0.90311433875909 sin tratar variables\n",
    "#Modelo: MSE: 0.24691218341200638 LinearRegression() R2: 0.7530878165879937 tratando variables\n"
   ]
  },
  {
   "cell_type": "code",
   "execution_count": null,
   "id": "other-forth",
   "metadata": {},
   "outputs": [],
   "source": []
  },
  {
   "cell_type": "markdown",
   "id": "hourly-judge",
   "metadata": {},
   "source": [
    "# Exercici 6\n",
    "\n",
    "No utilitzis la variable DepDelay a l’hora de fer prediccions"
   ]
  },
  {
   "cell_type": "code",
   "execution_count": 92,
   "id": "stock-customs",
   "metadata": {},
   "outputs": [],
   "source": [
    "# Voy a usar las variables que tienen delay para predicir delay sin usar depdelay\n",
    "#el rertaso total se compone de los retrasos parciales"
   ]
  },
  {
   "cell_type": "code",
   "execution_count": 93,
   "id": "brave-surge",
   "metadata": {},
   "outputs": [],
   "source": [
    "pd.set_option('display.max_columns', None)"
   ]
  },
  {
   "cell_type": "code",
   "execution_count": 94,
   "id": "classified-extreme",
   "metadata": {},
   "outputs": [
    {
     "data": {
      "text/html": [
       "<div>\n",
       "<style scoped>\n",
       "    .dataframe tbody tr th:only-of-type {\n",
       "        vertical-align: middle;\n",
       "    }\n",
       "\n",
       "    .dataframe tbody tr th {\n",
       "        vertical-align: top;\n",
       "    }\n",
       "\n",
       "    .dataframe thead th {\n",
       "        text-align: right;\n",
       "    }\n",
       "</style>\n",
       "<table border=\"1\" class=\"dataframe\">\n",
       "  <thead>\n",
       "    <tr style=\"text-align: right;\">\n",
       "      <th></th>\n",
       "      <th>Year</th>\n",
       "      <th>Month</th>\n",
       "      <th>DayofMonth</th>\n",
       "      <th>DayOfWeek</th>\n",
       "      <th>DepTime</th>\n",
       "      <th>CRSDepTime</th>\n",
       "      <th>ArrTime</th>\n",
       "      <th>CRSArrTime</th>\n",
       "      <th>UniqueCarrier</th>\n",
       "      <th>FlightNum</th>\n",
       "      <th>TailNum</th>\n",
       "      <th>ActualElapsedTime</th>\n",
       "      <th>CRSElapsedTime</th>\n",
       "      <th>AirTime</th>\n",
       "      <th>ArrDelay</th>\n",
       "      <th>DepDelay</th>\n",
       "      <th>Origin</th>\n",
       "      <th>Dest</th>\n",
       "      <th>Distance</th>\n",
       "      <th>TaxiIn</th>\n",
       "      <th>TaxiOut</th>\n",
       "      <th>Cancelled</th>\n",
       "      <th>CancellationCode</th>\n",
       "      <th>Diverted</th>\n",
       "      <th>CarrierDelay</th>\n",
       "      <th>WeatherDelay</th>\n",
       "      <th>NASDelay</th>\n",
       "      <th>SecurityDelay</th>\n",
       "      <th>LateAircraftDelay</th>\n",
       "    </tr>\n",
       "  </thead>\n",
       "  <tbody>\n",
       "    <tr>\n",
       "      <th>0</th>\n",
       "      <td>2008</td>\n",
       "      <td>1</td>\n",
       "      <td>3</td>\n",
       "      <td>4</td>\n",
       "      <td>2003.0</td>\n",
       "      <td>1955</td>\n",
       "      <td>2211.0</td>\n",
       "      <td>2225</td>\n",
       "      <td>WN</td>\n",
       "      <td>335</td>\n",
       "      <td>N712SW</td>\n",
       "      <td>128.0</td>\n",
       "      <td>150.0</td>\n",
       "      <td>116.0</td>\n",
       "      <td>-14.0</td>\n",
       "      <td>8.0</td>\n",
       "      <td>IAD</td>\n",
       "      <td>TPA</td>\n",
       "      <td>810</td>\n",
       "      <td>4.0</td>\n",
       "      <td>8.0</td>\n",
       "      <td>0</td>\n",
       "      <td>N</td>\n",
       "      <td>0</td>\n",
       "      <td>NaN</td>\n",
       "      <td>NaN</td>\n",
       "      <td>NaN</td>\n",
       "      <td>NaN</td>\n",
       "      <td>NaN</td>\n",
       "    </tr>\n",
       "    <tr>\n",
       "      <th>1</th>\n",
       "      <td>2008</td>\n",
       "      <td>1</td>\n",
       "      <td>3</td>\n",
       "      <td>4</td>\n",
       "      <td>754.0</td>\n",
       "      <td>735</td>\n",
       "      <td>1002.0</td>\n",
       "      <td>1000</td>\n",
       "      <td>WN</td>\n",
       "      <td>3231</td>\n",
       "      <td>N772SW</td>\n",
       "      <td>128.0</td>\n",
       "      <td>145.0</td>\n",
       "      <td>113.0</td>\n",
       "      <td>2.0</td>\n",
       "      <td>19.0</td>\n",
       "      <td>IAD</td>\n",
       "      <td>TPA</td>\n",
       "      <td>810</td>\n",
       "      <td>5.0</td>\n",
       "      <td>10.0</td>\n",
       "      <td>0</td>\n",
       "      <td>N</td>\n",
       "      <td>0</td>\n",
       "      <td>NaN</td>\n",
       "      <td>NaN</td>\n",
       "      <td>NaN</td>\n",
       "      <td>NaN</td>\n",
       "      <td>NaN</td>\n",
       "    </tr>\n",
       "    <tr>\n",
       "      <th>2</th>\n",
       "      <td>2008</td>\n",
       "      <td>1</td>\n",
       "      <td>3</td>\n",
       "      <td>4</td>\n",
       "      <td>628.0</td>\n",
       "      <td>620</td>\n",
       "      <td>804.0</td>\n",
       "      <td>750</td>\n",
       "      <td>WN</td>\n",
       "      <td>448</td>\n",
       "      <td>N428WN</td>\n",
       "      <td>96.0</td>\n",
       "      <td>90.0</td>\n",
       "      <td>76.0</td>\n",
       "      <td>14.0</td>\n",
       "      <td>8.0</td>\n",
       "      <td>IND</td>\n",
       "      <td>BWI</td>\n",
       "      <td>515</td>\n",
       "      <td>3.0</td>\n",
       "      <td>17.0</td>\n",
       "      <td>0</td>\n",
       "      <td>N</td>\n",
       "      <td>0</td>\n",
       "      <td>NaN</td>\n",
       "      <td>NaN</td>\n",
       "      <td>NaN</td>\n",
       "      <td>NaN</td>\n",
       "      <td>NaN</td>\n",
       "    </tr>\n",
       "    <tr>\n",
       "      <th>3</th>\n",
       "      <td>2008</td>\n",
       "      <td>1</td>\n",
       "      <td>3</td>\n",
       "      <td>4</td>\n",
       "      <td>1829.0</td>\n",
       "      <td>1755</td>\n",
       "      <td>1959.0</td>\n",
       "      <td>1925</td>\n",
       "      <td>WN</td>\n",
       "      <td>3920</td>\n",
       "      <td>N464WN</td>\n",
       "      <td>90.0</td>\n",
       "      <td>90.0</td>\n",
       "      <td>77.0</td>\n",
       "      <td>34.0</td>\n",
       "      <td>34.0</td>\n",
       "      <td>IND</td>\n",
       "      <td>BWI</td>\n",
       "      <td>515</td>\n",
       "      <td>3.0</td>\n",
       "      <td>10.0</td>\n",
       "      <td>0</td>\n",
       "      <td>N</td>\n",
       "      <td>0</td>\n",
       "      <td>2.0</td>\n",
       "      <td>0.0</td>\n",
       "      <td>0.0</td>\n",
       "      <td>0.0</td>\n",
       "      <td>32.0</td>\n",
       "    </tr>\n",
       "    <tr>\n",
       "      <th>4</th>\n",
       "      <td>2008</td>\n",
       "      <td>1</td>\n",
       "      <td>3</td>\n",
       "      <td>4</td>\n",
       "      <td>1940.0</td>\n",
       "      <td>1915</td>\n",
       "      <td>2121.0</td>\n",
       "      <td>2110</td>\n",
       "      <td>WN</td>\n",
       "      <td>378</td>\n",
       "      <td>N726SW</td>\n",
       "      <td>101.0</td>\n",
       "      <td>115.0</td>\n",
       "      <td>87.0</td>\n",
       "      <td>11.0</td>\n",
       "      <td>25.0</td>\n",
       "      <td>IND</td>\n",
       "      <td>JAX</td>\n",
       "      <td>688</td>\n",
       "      <td>4.0</td>\n",
       "      <td>10.0</td>\n",
       "      <td>0</td>\n",
       "      <td>N</td>\n",
       "      <td>0</td>\n",
       "      <td>NaN</td>\n",
       "      <td>NaN</td>\n",
       "      <td>NaN</td>\n",
       "      <td>NaN</td>\n",
       "      <td>NaN</td>\n",
       "    </tr>\n",
       "  </tbody>\n",
       "</table>\n",
       "</div>"
      ],
      "text/plain": [
       "   Year  Month  DayofMonth  DayOfWeek  DepTime  CRSDepTime  ArrTime  \\\n",
       "0  2008      1           3          4   2003.0        1955   2211.0   \n",
       "1  2008      1           3          4    754.0         735   1002.0   \n",
       "2  2008      1           3          4    628.0         620    804.0   \n",
       "3  2008      1           3          4   1829.0        1755   1959.0   \n",
       "4  2008      1           3          4   1940.0        1915   2121.0   \n",
       "\n",
       "   CRSArrTime UniqueCarrier  FlightNum TailNum  ActualElapsedTime  \\\n",
       "0        2225            WN        335  N712SW              128.0   \n",
       "1        1000            WN       3231  N772SW              128.0   \n",
       "2         750            WN        448  N428WN               96.0   \n",
       "3        1925            WN       3920  N464WN               90.0   \n",
       "4        2110            WN        378  N726SW              101.0   \n",
       "\n",
       "   CRSElapsedTime  AirTime  ArrDelay  DepDelay Origin Dest  Distance  TaxiIn  \\\n",
       "0           150.0    116.0     -14.0       8.0    IAD  TPA       810     4.0   \n",
       "1           145.0    113.0       2.0      19.0    IAD  TPA       810     5.0   \n",
       "2            90.0     76.0      14.0       8.0    IND  BWI       515     3.0   \n",
       "3            90.0     77.0      34.0      34.0    IND  BWI       515     3.0   \n",
       "4           115.0     87.0      11.0      25.0    IND  JAX       688     4.0   \n",
       "\n",
       "   TaxiOut  Cancelled CancellationCode  Diverted  CarrierDelay  WeatherDelay  \\\n",
       "0      8.0          0                N         0           NaN           NaN   \n",
       "1     10.0          0                N         0           NaN           NaN   \n",
       "2     17.0          0                N         0           NaN           NaN   \n",
       "3     10.0          0                N         0           2.0           0.0   \n",
       "4     10.0          0                N         0           NaN           NaN   \n",
       "\n",
       "   NASDelay  SecurityDelay  LateAircraftDelay  \n",
       "0       NaN            NaN                NaN  \n",
       "1       NaN            NaN                NaN  \n",
       "2       NaN            NaN                NaN  \n",
       "3       0.0            0.0               32.0  \n",
       "4       NaN            NaN                NaN  "
      ]
     },
     "execution_count": 94,
     "metadata": {},
     "output_type": "execute_result"
    }
   ],
   "source": [
    "df.head()"
   ]
  },
  {
   "cell_type": "code",
   "execution_count": 135,
   "id": "detailed-office",
   "metadata": {},
   "outputs": [
    {
     "data": {
      "text/plain": [
       "Year                      0\n",
       "Month                     0\n",
       "DayofMonth                0\n",
       "DayOfWeek                 0\n",
       "DepTime                   0\n",
       "CRSDepTime                0\n",
       "ArrTime                7110\n",
       "CRSArrTime                0\n",
       "UniqueCarrier             0\n",
       "FlightNum                 0\n",
       "TailNum                   5\n",
       "ActualElapsedTime      8387\n",
       "CRSElapsedTime          198\n",
       "AirTime                8387\n",
       "ArrDelay               8387\n",
       "DepDelay                  0\n",
       "Origin                    0\n",
       "Dest                      0\n",
       "Distance                  0\n",
       "TaxiIn                 7110\n",
       "TaxiOut                 455\n",
       "Cancelled                 0\n",
       "CancellationCode          0\n",
       "Diverted                  0\n",
       "CarrierDelay         689270\n",
       "WeatherDelay         689270\n",
       "NASDelay             689270\n",
       "SecurityDelay        689270\n",
       "LateAircraftDelay    689270\n",
       "dftotal                   0\n",
       "dtype: int64"
      ]
     },
     "execution_count": 135,
     "metadata": {},
     "output_type": "execute_result"
    }
   ],
   "source": [
    "df.isnull().sum()"
   ]
  },
  {
   "cell_type": "code",
   "execution_count": 136,
   "id": "mobile-pharmacy",
   "metadata": {},
   "outputs": [
    {
     "data": {
      "text/plain": [
       "Year                 0\n",
       "Month                0\n",
       "DayofMonth           0\n",
       "DayOfWeek            0\n",
       "DepTime              0\n",
       "CRSDepTime           0\n",
       "ArrTime              0\n",
       "CRSArrTime           0\n",
       "UniqueCarrier        0\n",
       "FlightNum            0\n",
       "TailNum              0\n",
       "ActualElapsedTime    0\n",
       "CRSElapsedTime       0\n",
       "AirTime              0\n",
       "ArrDelay             0\n",
       "DepDelay             0\n",
       "Origin               0\n",
       "Dest                 0\n",
       "Distance             0\n",
       "TaxiIn               0\n",
       "TaxiOut              0\n",
       "Cancelled            0\n",
       "CancellationCode     0\n",
       "Diverted             0\n",
       "CarrierDelay         0\n",
       "WeatherDelay         0\n",
       "NASDelay             0\n",
       "SecurityDelay        0\n",
       "LateAircraftDelay    0\n",
       "dtype: int64"
      ]
     },
     "execution_count": 136,
     "metadata": {},
     "output_type": "execute_result"
    }
   ],
   "source": [
    "dflimpio2=df.dropna(axis=0, how='any')\n",
    "dflimpio.isna().sum()"
   ]
  },
  {
   "cell_type": "code",
   "execution_count": 137,
   "id": "pediatric-latex",
   "metadata": {},
   "outputs": [],
   "source": [
    "df['dftotal']=df['CarrierDelay']+df['WeatherDelay']+df['NASDelay']+df['SecurityDelay']+df['LateAircraftDelay']"
   ]
  },
  {
   "cell_type": "code",
   "execution_count": 148,
   "id": "automatic-mozambique",
   "metadata": {},
   "outputs": [],
   "source": [
    "target_column1 = ['ArrDelay']\n",
    "predictors1=['dftotal']\n",
    "y2 = pd.DataFrame(dflimpio2, columns=target_column1)\n",
    "X2 = pd.DataFrame(dflimpio2, columns=predictors1)"
   ]
  },
  {
   "cell_type": "code",
   "execution_count": 149,
   "id": "working-cooper",
   "metadata": {},
   "outputs": [],
   "source": [
    "X_train2, X_test2, y_train2, y_test2 = train_test_split(X2, y2, test_size=0.33, random_state=42)"
   ]
  },
  {
   "cell_type": "code",
   "execution_count": 151,
   "id": "detected-restoration",
   "metadata": {},
   "outputs": [],
   "source": [
    "lm2= linear_model.LinearRegression()\n",
    "model3 = lm.fit(X_train2,y_train2)"
   ]
  },
  {
   "cell_type": "code",
   "execution_count": 152,
   "id": "defined-potter",
   "metadata": {},
   "outputs": [
    {
     "name": "stdout",
     "output_type": "stream",
     "text": [
      "Modelo: MSE: 0.24691218341200638 LinearRegression() R2: 0.7530878165879937\n"
     ]
    }
   ],
   "source": [
    "regresiones = [model3]\n",
    "mser2(regresiones)"
   ]
  },
  {
   "cell_type": "code",
   "execution_count": null,
   "id": "ranging-truck",
   "metadata": {},
   "outputs": [],
   "source": []
  },
  {
   "cell_type": "code",
   "execution_count": null,
   "id": "mounted-physics",
   "metadata": {},
   "outputs": [],
   "source": []
  },
  {
   "cell_type": "code",
   "execution_count": null,
   "id": "controlled-complement",
   "metadata": {},
   "outputs": [],
   "source": []
  }
 ],
 "metadata": {
  "kernelspec": {
   "display_name": "Python 3",
   "language": "python",
   "name": "python3"
  },
  "language_info": {
   "codemirror_mode": {
    "name": "ipython",
    "version": 3
   },
   "file_extension": ".py",
   "mimetype": "text/x-python",
   "name": "python",
   "nbconvert_exporter": "python",
   "pygments_lexer": "ipython3",
   "version": "3.8.5"
  }
 },
 "nbformat": 4,
 "nbformat_minor": 5
}
